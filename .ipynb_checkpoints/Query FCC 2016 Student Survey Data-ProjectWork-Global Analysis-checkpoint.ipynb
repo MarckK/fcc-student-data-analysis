{
 "cells": [
  {
   "cell_type": "code",
   "execution_count": 1,
   "metadata": {},
   "outputs": [],
   "source": [
    "import numpy as np\n",
    "import pandas as pd\n",
    "import matplotlib.pyplot as plt"
   ]
  },
  {
   "cell_type": "code",
   "execution_count": 2,
   "metadata": {},
   "outputs": [],
   "source": [
    "#Set dataframe with csv (buffering due to size)\n",
    "# rawURL = 'https://raw.githubusercontent.com/freeCodeCamp/2016-new-coder-survey/master/clean-data/2016-FCC-New-Coders-Survey-Data.csv'\n",
    "# reader = pd.read_csv(rawURL, sep = ',', dtype = str, iterator=True, chunksize=10000, engine = 'python', encoding = 'utf-8')\n",
    "# df = pd.concat(reader,ignore_index = True)"
   ]
  },
  {
   "cell_type": "code",
   "execution_count": 3,
   "metadata": {},
   "outputs": [],
   "source": [
    "df = pd.read_csv(\"2016-FCC-New-Coders-Survey-Data.csv\", low_memory=False)"
   ]
  },
  {
   "cell_type": "code",
   "execution_count": 4,
   "metadata": {},
   "outputs": [],
   "source": [
    "#Functions\n",
    "\n",
    "\n",
    "def category_education(degree):\n",
    "    #Group degrees into two categories\n",
    "    high_eduction = [\"associate's degree\",\"bachelor's degree\",\"master's degree (non-professional)\",\"professional degree (MBA, MD, JD, etc.)\",\"Ph.D.\"]\n",
    "    \n",
    "    if(degree in high_eduction):\n",
    "        return \"High-Education\"\n",
    "    else:\n",
    "        return \"Low-Education\""
   ]
  },
  {
   "cell_type": "code",
   "execution_count": 5,
   "metadata": {},
   "outputs": [],
   "source": [
    "list(df);"
   ]
  },
  {
   "cell_type": "code",
   "execution_count": 6,
   "metadata": {},
   "outputs": [
    {
     "data": {
      "text/plain": [
       "15620"
      ]
     },
     "execution_count": 6,
     "metadata": {},
     "output_type": "execute_result"
    }
   ],
   "source": [
    "len(df)"
   ]
  },
  {
   "cell_type": "code",
   "execution_count": 7,
   "metadata": {},
   "outputs": [],
   "source": [
    "# Drop rows where either CountryLive or SchoolDegree was not given(NaN)\n",
    "df = df.dropna(axis=0, subset = ['CountryLive', 'SchoolDegree'])"
   ]
  },
  {
   "cell_type": "code",
   "execution_count": 8,
   "metadata": {},
   "outputs": [
    {
     "data": {
      "text/plain": [
       "13506"
      ]
     },
     "execution_count": 8,
     "metadata": {},
     "output_type": "execute_result"
    }
   ],
   "source": [
    "len(df)"
   ]
  },
  {
   "cell_type": "code",
   "execution_count": 9,
   "metadata": {},
   "outputs": [],
   "source": [
    "#Columns to consider\n",
    "selected_columns = [\"CountryLive\",\"SchoolDegree\",\"ResourceBlogs\",\"ResourceBooks\",\"ResourceCodecademy\",\"ResourceCodeWars\",\"ResourceCoursera\",\"ResourceDevTips\",        \"ResourceEdX\",\"ResourceEggHead\",\"ResourceFCC\",\"ResourceGoogle\",\"ResourceHackerRank\",\"ResourceKhanAcademy\",\"ResourceLynda\",        \"ResourceMDN\",\"ResourceOdinProj\",\"ResourceOther\",\"ResourcePluralSight\",\"ResourceReddit\",\"ResourceSkillCrush\",\"ResourceSoloLearn\",        \"ResourceStackOverflow\",\"ResourceTreehouse\",\"ResourceUdacity\",\"ResourceUdemy\",\"ResourceW3Schools\",\"ResourceYouTube\"]"
   ]
  },
  {
   "cell_type": "code",
   "execution_count": 10,
   "metadata": {},
   "outputs": [],
   "source": [
    "df_selected = df.loc[:,selected_columns]"
   ]
  },
  {
   "cell_type": "code",
   "execution_count": 11,
   "metadata": {},
   "outputs": [
    {
     "data": {
      "text/plain": [
       "13506"
      ]
     },
     "execution_count": 11,
     "metadata": {},
     "output_type": "execute_result"
    }
   ],
   "source": [
    "len(df_selected)"
   ]
  },
  {
   "cell_type": "code",
   "execution_count": 12,
   "metadata": {},
   "outputs": [],
   "source": [
    "df_selected.columns;"
   ]
  },
  {
   "cell_type": "code",
   "execution_count": 13,
   "metadata": {},
   "outputs": [],
   "source": [
    "#Simplify naming of columns\n",
    "columns_titles = [column.replace('Resource','') for column in list(df_selected.columns)]"
   ]
  },
  {
   "cell_type": "code",
   "execution_count": 14,
   "metadata": {},
   "outputs": [],
   "source": [
    "df_selected.set_axis(columns_titles, axis='columns', inplace=True)"
   ]
  },
  {
   "cell_type": "code",
   "execution_count": 15,
   "metadata": {},
   "outputs": [],
   "source": [
    "df_selected;"
   ]
  },
  {
   "cell_type": "code",
   "execution_count": 16,
   "metadata": {},
   "outputs": [],
   "source": [
    "#Select CountryLive that belong to Aspac group\n",
    "aspac = ['Afghanistan', 'Australia', 'Bangladesh', 'Brunei', 'Cambodia', 'China', 'Fiji', 'Guam', 'Hong Kong', 'India', 'Indonesia', 'Japan', 'Korea North', 'Korea South','Malaysia', 'Maldives', 'Mongolia', 'Myanmar', 'Nepal', 'New Caledonia', 'New Zealand', 'Pakistan', 'Philippines', 'Singapore', 'Sri Lanka', 'Taiwan', 'Thailand', 'Tokelau', 'Vietnam']"
   ]
  },
  {
   "cell_type": "code",
   "execution_count": 17,
   "metadata": {},
   "outputs": [
    {
     "data": {
      "text/plain": [
       "29"
      ]
     },
     "execution_count": 17,
     "metadata": {},
     "output_type": "execute_result"
    }
   ],
   "source": [
    "len(aspac)"
   ]
  },
  {
   "cell_type": "code",
   "execution_count": 18,
   "metadata": {},
   "outputs": [],
   "source": [
    "#Select only aspac countries\n",
    "df_selected = df_selected.loc[df_selected.CountryLive.isin(aspac)]"
   ]
  },
  {
   "cell_type": "code",
   "execution_count": 19,
   "metadata": {},
   "outputs": [],
   "source": [
    "df_selected;"
   ]
  },
  {
   "cell_type": "code",
   "execution_count": 20,
   "metadata": {},
   "outputs": [
    {
     "data": {
      "text/plain": [
       "2069"
      ]
     },
     "execution_count": 20,
     "metadata": {},
     "output_type": "execute_result"
    }
   ],
   "source": [
    "len(df_selected)"
   ]
  },
  {
   "cell_type": "code",
   "execution_count": 21,
   "metadata": {},
   "outputs": [],
   "source": [
    "# df_selected.fillna(0);"
   ]
  },
  {
   "cell_type": "code",
   "execution_count": 22,
   "metadata": {},
   "outputs": [],
   "source": [
    "# Create column with Higher or Lower Eduation categorization noted. (The below is a warning--rather inexplicable as I am already using the suggested code fix. The code works)\n",
    "df_selected.loc[:, 'GroupEducation'] = df_selected.apply(lambda row: category_education(row['SchoolDegree']), axis=1);\n",
    "# print(df_selected)"
   ]
  },
  {
   "cell_type": "code",
   "execution_count": 23,
   "metadata": {},
   "outputs": [],
   "source": [
    "#Create column with sum of resources used. (The below is a warning--rather inexplicable as I am already using the suggested code fix. The code works)\n",
    "df_selected.loc[:, 'TotalResources'] = df_selected.sum(axis=1)"
   ]
  },
  {
   "cell_type": "code",
   "execution_count": 24,
   "metadata": {},
   "outputs": [],
   "source": [
    "df_selected;"
   ]
  },
  {
   "cell_type": "code",
   "execution_count": 25,
   "metadata": {},
   "outputs": [],
   "source": [
    "#Sum Columns of Resources (ie, the only columns in this df containing numberical values)\n",
    "sums = df_selected.select_dtypes(pd.np.number).sum().rename('total')"
   ]
  },
  {
   "cell_type": "code",
   "execution_count": 26,
   "metadata": {},
   "outputs": [],
   "source": [
    "#Append the total for each resource to the df\n",
    "df_selected_sums = df_selected.append(sums)"
   ]
  },
  {
   "cell_type": "code",
   "execution_count": 27,
   "metadata": {},
   "outputs": [
    {
     "data": {
      "text/plain": [
       "'FCC'"
      ]
     },
     "execution_count": 27,
     "metadata": {},
     "output_type": "execute_result"
    }
   ],
   "source": [
    "sums[:-1].idxmax()\n",
    "sums_without_totalOfAllResources = sums[:-1]\n",
    "sums_without_totalOfAllResources.idxmax()"
   ]
  },
  {
   "cell_type": "code",
   "execution_count": 28,
   "metadata": {},
   "outputs": [],
   "source": [
    "sums_without_totalOfAllResources.sort_values(ascending=False);"
   ]
  },
  {
   "cell_type": "code",
   "execution_count": 29,
   "metadata": {},
   "outputs": [],
   "source": [
    "df_high_education = df_selected[df_selected.GroupEducation == 'High-Education']\n",
    "sums = df_high_education.select_dtypes(pd.np.number).sum().rename('total')\n",
    "df_high_education_sums = df_high_education.append(sums)"
   ]
  },
  {
   "cell_type": "code",
   "execution_count": 30,
   "metadata": {},
   "outputs": [],
   "source": [
    "df_low_education = df_selected[df_selected.GroupEducation == 'Low-Education']\n",
    "sums = df_low_education.select_dtypes(pd.np.number).sum().rename('total')\n",
    "df_low_education_sums = df_low_education.append(sums)"
   ]
  },
  {
   "cell_type": "code",
   "execution_count": 31,
   "metadata": {},
   "outputs": [
    {
     "name": "stdout",
     "output_type": "stream",
     "text": [
      "2069\n"
     ]
    },
    {
     "data": {
      "text/plain": [
       "553.0"
      ]
     },
     "execution_count": 31,
     "metadata": {},
     "output_type": "execute_result"
    }
   ],
   "source": [
    "df_udacity = df_selected['Udacity']\n",
    "print(len(df_selected))\n",
    "df_udacity.sum()"
   ]
  },
  {
   "cell_type": "code",
   "execution_count": 32,
   "metadata": {},
   "outputs": [
    {
     "name": "stdout",
     "output_type": "stream",
     "text": [
      "1335\n"
     ]
    },
    {
     "data": {
      "text/plain": [
       "350.0"
      ]
     },
     "execution_count": 32,
     "metadata": {},
     "output_type": "execute_result"
    }
   ],
   "source": [
    "df_high_education_udacity = df_high_education['Udacity']\n",
    "print(len(df_high_education))\n",
    "df_high_education_udacity.sum()"
   ]
  },
  {
   "cell_type": "code",
   "execution_count": 33,
   "metadata": {},
   "outputs": [
    {
     "name": "stdout",
     "output_type": "stream",
     "text": [
      "734\n"
     ]
    },
    {
     "data": {
      "text/plain": [
       "203.0"
      ]
     },
     "execution_count": 33,
     "metadata": {},
     "output_type": "execute_result"
    }
   ],
   "source": [
    "df_low_education_udacity = df_low_education['Udacity']\n",
    "print(len(df_low_education))\n",
    "df_low_education_udacity.sum()"
   ]
  },
  {
   "cell_type": "markdown",
   "metadata": {},
   "source": [
    "**Conclusions on Udacity usage in Asian (aspac) countries:**\n",
    "\n",
    "Out of the 2069 total individuals in this analysis (ie, filled in both CountryLive and SchoolDegree and CountryLive is in aspac country), the number that use Udacity as a resource is 553 or 26.7%.\n",
    "\n",
    "Udacity ranks 5th out of all resources used.\n",
    "\n",
    "For the 1335 high education individuals, the number that use Udacity as a resource is 350 or 26.2%.\n",
    "For the 734 low education individuals, the number that use Udacity as a resource is 203 or 27.7%.\n",
    "\n",
    "So there really isn’t much of a difference between educational attainment and engagement with Udacity. What is clear is that many more high education individuals (as a proportion of the general population) are engaged with FCC, and possibly online learning, in Asian (aspac) countries.\n",
    "\n",
    "This reflects the fact that there is minimal difference between online resource utilisation for individuals with high and low education in this study (for Asian countries). See below."
   ]
  },
  {
   "cell_type": "code",
   "execution_count": 34,
   "metadata": {},
   "outputs": [
    {
     "name": "stdout",
     "output_type": "stream",
     "text": [
      "Total Resources:\n",
      "\n",
      "count    2069.000000\n",
      "mean        3.161914\n",
      "std         1.949651\n",
      "min         0.000000\n",
      "25%         2.000000\n",
      "50%         3.000000\n",
      "75%         4.000000\n",
      "max        12.000000\n",
      "Name: TotalResources, dtype: float64\n",
      "\n",
      "Total Resources for High Education:\n",
      "\n",
      "count    1335.000000\n",
      "mean        3.128090\n",
      "std         1.874051\n",
      "min         0.000000\n",
      "25%         2.000000\n",
      "50%         3.000000\n",
      "75%         4.000000\n",
      "max        11.000000\n",
      "Name: TotalResources, dtype: float64\n",
      "\n",
      "Total Resources for Low Education:\n",
      "\n",
      "count    734.000000\n",
      "mean       3.223433\n",
      "std        2.080035\n",
      "min        0.000000\n",
      "25%        1.000000\n",
      "50%        3.000000\n",
      "75%        4.000000\n",
      "max       12.000000\n",
      "Name: TotalResources, dtype: float64\n"
     ]
    }
   ],
   "source": [
    "#Print statistic data\n",
    "\n",
    "df_total_education = df_selected['TotalResources']\n",
    "\n",
    "totals_for_all = df_selected_sums.tail(1).apply(lambda x: x.tolist(), axis=1)\n",
    "totals_for_all_list = totals_for_all[0]\n",
    "totals_for_all_sliced = totals_for_all_list[2:-2]\n",
    "totals_for_all = [0.0 if str(el) == 'nan' else el for el in totals_for_all_sliced]\n",
    "\n",
    "print('Total Resources:\\n')\n",
    "print(df_total_education.describe())\n",
    "\n",
    "df_high_education = df_selected[df_selected.GroupEducation == 'High-Education']\n",
    "\n",
    "totals_high_ed = df_high_education_sums.tail(1).apply(lambda x: x.tolist(), axis=1)\n",
    "totals_high_ed_list = totals_high_ed[0]\n",
    "totals_high_ed_sliced = totals_high_ed_list[2:-2]\n",
    "totals_high_ed = [0.0 if str(el) == 'nan' else el for el in totals_high_ed_sliced]\n",
    "\n",
    "df_high_education = df_high_education['TotalResources']\n",
    "print('\\nTotal Resources for High Education:\\n')\n",
    "print(df_high_education.describe())\n",
    "\n",
    "df_low_education = df_selected[df_selected.GroupEducation == 'Low-Education']\n",
    "\n",
    "totals_low_ed = df_low_education_sums.tail(1).apply(lambda x: x.tolist(), axis=1)\n",
    "totals_low_ed_list = totals_low_ed[0]\n",
    "totals_low_ed_sliced = totals_low_ed_list[2:-2]\n",
    "totals_low_ed = [0.0 if str(el) == 'nan' else el for el in totals_low_ed_sliced]\n",
    "\n",
    "\n",
    "df_low_education = df_low_education['TotalResources']\n",
    "print('\\nTotal Resources for Low Education:\\n')\n",
    "print(df_low_education.describe())"
   ]
  },
  {
   "cell_type": "code",
   "execution_count": 35,
   "metadata": {},
   "outputs": [],
   "source": [
    "#Histogram\n",
    "def create_histogram(description, df_total_education, df_high_education, df_low_education, columns_titles):\n",
    "    plt.figure(figsize=(15,5))\n",
    "    bins = [x//2 for x in range(len(columns_titles))]\n",
    "    plt.hist(df_total_education, bins, histtype='step',stacked = True, rwidth = 0.8, label='Total', color='#000066')\n",
    "    plt.hist(df_high_education, bins, histtype='bar', stacked = True, rwidth = 0.6, label='High-Education', color = '#3366FF')\n",
    "    plt.hist(df_low_education, bins, histtype='bar', stacked = True, rwidth = 0.4, label='Low-Education', color = '#99CCFF')\n",
    "    plt.xlabel('Number of resources utilised')\n",
    "    plt.ylabel('Frequency')\n",
    "    plt.title('Histogram of resources - ' + description)\n",
    "    plt.grid(False)\n",
    "    plt.legend()\n",
    "    plt.show()\n",
    "    \n",
    "#Bar graph\n",
    "def create_bar_graph(description, df_total_education, df_high_education, df_low_education, columns_titles):\n",
    "    plt.figure(figsize=(15,5))\n",
    "    labels = columns_titles[2:]\n",
    "    x_bar = [i for i, _ in enumerate(labels)]\n",
    "    plt.bar(x_bar, totals_for_all, width = 0.80, edgecolor = '#000066', facecolor = 'w', label='Total')\n",
    "    plt.bar(x_bar, totals_high_ed, width = 0.60, color = '#3366FF', label='High-Education') \n",
    "    plt.bar(x_bar, totals_low_ed, width = 0.40, color = '#99CCFF', label='Low-Education') \n",
    "    plt.xlabel('By resource')\n",
    "    plt.ylabel('Number of people')\n",
    "    plt.xticks(x_bar, labels, rotation='vertical')\n",
    "    plt.legend()\n",
    "    plt.title('Barplot resources usage - ' + description)\n",
    "    plt.grid(True, color = '#CCCCCC')\n",
    "    plt.show()"
   ]
  },
  {
   "cell_type": "code",
   "execution_count": 36,
   "metadata": {},
   "outputs": [
    {
     "data": {
      "image/png": "[encoded data removed]",
      "text/plain": [
       "<Figure size 1080x360 with 1 Axes>"
      ]
     },
     "metadata": {},
     "output_type": "display_data"
    }
   ],
   "source": [
    "create_histogram('Asia', df_total_education, df_high_education, df_low_education, columns_titles)"
   ]
  },
  {
   "cell_type": "code",
   "execution_count": 37,
   "metadata": {},
   "outputs": [
    {
     "data": {
      "image/png": "[encoded data removed]",
      "text/plain": [
       "<Figure size 1080x360 with 1 Axes>"
      ]
     },
     "metadata": {},
     "output_type": "display_data"
    }
   ],
   "source": [
    "create_bar_graph('Asia', df_total_education, df_high_education, df_low_education, columns_titles)"
   ]
  },
  {
   "cell_type": "code",
   "execution_count": null,
   "metadata": {},
   "outputs": [],
   "source": []
  }
 ],
 "metadata": {
  "kernelspec": {
   "display_name": "Python [default]",
   "language": "python",
   "name": "python3"
  },
  "language_info": {
   "codemirror_mode": {
    "name": "ipython",
    "version": 3
   },
   "file_extension": ".py",
   "mimetype": "text/x-python",
   "name": "python",
   "nbconvert_exporter": "python",
   "pygments_lexer": "ipython3",
   "version": "3.6.5"
  }
 },
 "nbformat": 4,
 "nbformat_minor": 2
}
