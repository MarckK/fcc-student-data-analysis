{
 "cells": [
  {
   "cell_type": "code",
   "execution_count": 1,
   "metadata": {},
   "outputs": [],
   "source": [
    "import pandas as pd\n",
    "import numpy as np\n",
    "import matplotlib.pyplot as plt"
   ]
  },
  {
   "cell_type": "code",
   "execution_count": 2,
   "metadata": {},
   "outputs": [],
   "source": [
    "df = pd.read_csv(\"2016-FCC-New-Coders-Survey-Data.csv\", low_memory=False)"
   ]
  },
  {
   "cell_type": "code",
   "execution_count": 3,
   "metadata": {},
   "outputs": [
    {
     "data": {
      "text/plain": [
       "Index(['Age', 'AttendedBootcamp', 'BootcampFinish', 'BootcampFullJobAfter',\n",
       "       'BootcampLoanYesNo', 'BootcampMonthsAgo', 'BootcampName',\n",
       "       'BootcampPostSalary', 'BootcampRecommend', 'ChildrenNumber',\n",
       "       ...\n",
       "       'ResourceSoloLearn', 'ResourceStackOverflow', 'ResourceTreehouse',\n",
       "       'ResourceUdacity', 'ResourceUdemy', 'ResourceW3Schools',\n",
       "       'ResourceYouTube', 'SchoolDegree', 'SchoolMajor', 'StudentDebtOwe'],\n",
       "      dtype='object', length=113)"
      ]
     },
     "execution_count": 3,
     "metadata": {},
     "output_type": "execute_result"
    }
   ],
   "source": [
    "df.columns"
   ]
  },
  {
   "cell_type": "code",
   "execution_count": 4,
   "metadata": {},
   "outputs": [
    {
     "data": {
      "text/html": [
       "<div>\n",
       "<style scoped>\n",
       "    .dataframe tbody tr th:only-of-type {\n",
       "        vertical-align: middle;\n",
       "    }\n",
       "\n",
       "    .dataframe tbody tr th {\n",
       "        vertical-align: top;\n",
       "    }\n",
       "\n",
       "    .dataframe thead th {\n",
       "        text-align: right;\n",
       "    }\n",
       "</style>\n",
       "<table border=\"1\" class=\"dataframe\">\n",
       "  <thead>\n",
       "    <tr style=\"text-align: right;\">\n",
       "      <th></th>\n",
       "      <th>Age</th>\n",
       "      <th>AttendedBootcamp</th>\n",
       "      <th>BootcampFinish</th>\n",
       "      <th>BootcampFullJobAfter</th>\n",
       "      <th>BootcampLoanYesNo</th>\n",
       "      <th>BootcampMonthsAgo</th>\n",
       "      <th>BootcampName</th>\n",
       "      <th>BootcampPostSalary</th>\n",
       "      <th>BootcampRecommend</th>\n",
       "      <th>ChildrenNumber</th>\n",
       "      <th>...</th>\n",
       "      <th>ResourceSoloLearn</th>\n",
       "      <th>ResourceStackOverflow</th>\n",
       "      <th>ResourceTreehouse</th>\n",
       "      <th>ResourceUdacity</th>\n",
       "      <th>ResourceUdemy</th>\n",
       "      <th>ResourceW3Schools</th>\n",
       "      <th>ResourceYouTube</th>\n",
       "      <th>SchoolDegree</th>\n",
       "      <th>SchoolMajor</th>\n",
       "      <th>StudentDebtOwe</th>\n",
       "    </tr>\n",
       "  </thead>\n",
       "  <tbody>\n",
       "    <tr>\n",
       "      <th>0</th>\n",
       "      <td>28.0</td>\n",
       "      <td>0.0</td>\n",
       "      <td>NaN</td>\n",
       "      <td>NaN</td>\n",
       "      <td>NaN</td>\n",
       "      <td>NaN</td>\n",
       "      <td>NaN</td>\n",
       "      <td>NaN</td>\n",
       "      <td>NaN</td>\n",
       "      <td>NaN</td>\n",
       "      <td>...</td>\n",
       "      <td>NaN</td>\n",
       "      <td>NaN</td>\n",
       "      <td>NaN</td>\n",
       "      <td>NaN</td>\n",
       "      <td>NaN</td>\n",
       "      <td>NaN</td>\n",
       "      <td>NaN</td>\n",
       "      <td>some college credit, no degree</td>\n",
       "      <td>NaN</td>\n",
       "      <td>20000.0</td>\n",
       "    </tr>\n",
       "    <tr>\n",
       "      <th>1</th>\n",
       "      <td>22.0</td>\n",
       "      <td>0.0</td>\n",
       "      <td>NaN</td>\n",
       "      <td>NaN</td>\n",
       "      <td>NaN</td>\n",
       "      <td>NaN</td>\n",
       "      <td>NaN</td>\n",
       "      <td>NaN</td>\n",
       "      <td>NaN</td>\n",
       "      <td>NaN</td>\n",
       "      <td>...</td>\n",
       "      <td>NaN</td>\n",
       "      <td>NaN</td>\n",
       "      <td>NaN</td>\n",
       "      <td>NaN</td>\n",
       "      <td>1.0</td>\n",
       "      <td>NaN</td>\n",
       "      <td>NaN</td>\n",
       "      <td>some college credit, no degree</td>\n",
       "      <td>NaN</td>\n",
       "      <td>NaN</td>\n",
       "    </tr>\n",
       "    <tr>\n",
       "      <th>2</th>\n",
       "      <td>19.0</td>\n",
       "      <td>0.0</td>\n",
       "      <td>NaN</td>\n",
       "      <td>NaN</td>\n",
       "      <td>NaN</td>\n",
       "      <td>NaN</td>\n",
       "      <td>NaN</td>\n",
       "      <td>NaN</td>\n",
       "      <td>NaN</td>\n",
       "      <td>NaN</td>\n",
       "      <td>...</td>\n",
       "      <td>NaN</td>\n",
       "      <td>NaN</td>\n",
       "      <td>NaN</td>\n",
       "      <td>NaN</td>\n",
       "      <td>NaN</td>\n",
       "      <td>NaN</td>\n",
       "      <td>NaN</td>\n",
       "      <td>high school diploma or equivalent (GED)</td>\n",
       "      <td>NaN</td>\n",
       "      <td>NaN</td>\n",
       "    </tr>\n",
       "    <tr>\n",
       "      <th>3</th>\n",
       "      <td>26.0</td>\n",
       "      <td>0.0</td>\n",
       "      <td>NaN</td>\n",
       "      <td>NaN</td>\n",
       "      <td>NaN</td>\n",
       "      <td>NaN</td>\n",
       "      <td>NaN</td>\n",
       "      <td>NaN</td>\n",
       "      <td>NaN</td>\n",
       "      <td>NaN</td>\n",
       "      <td>...</td>\n",
       "      <td>NaN</td>\n",
       "      <td>NaN</td>\n",
       "      <td>NaN</td>\n",
       "      <td>NaN</td>\n",
       "      <td>NaN</td>\n",
       "      <td>NaN</td>\n",
       "      <td>NaN</td>\n",
       "      <td>bachelor's degree</td>\n",
       "      <td>Cinematography And Film</td>\n",
       "      <td>7000.0</td>\n",
       "    </tr>\n",
       "    <tr>\n",
       "      <th>4</th>\n",
       "      <td>20.0</td>\n",
       "      <td>0.0</td>\n",
       "      <td>NaN</td>\n",
       "      <td>NaN</td>\n",
       "      <td>NaN</td>\n",
       "      <td>NaN</td>\n",
       "      <td>NaN</td>\n",
       "      <td>NaN</td>\n",
       "      <td>NaN</td>\n",
       "      <td>NaN</td>\n",
       "      <td>...</td>\n",
       "      <td>NaN</td>\n",
       "      <td>NaN</td>\n",
       "      <td>NaN</td>\n",
       "      <td>NaN</td>\n",
       "      <td>NaN</td>\n",
       "      <td>NaN</td>\n",
       "      <td>NaN</td>\n",
       "      <td>some college credit, no degree</td>\n",
       "      <td>NaN</td>\n",
       "      <td>NaN</td>\n",
       "    </tr>\n",
       "  </tbody>\n",
       "</table>\n",
       "<p>5 rows × 113 columns</p>\n",
       "</div>"
      ],
      "text/plain": [
       "    Age  AttendedBootcamp  BootcampFinish  BootcampFullJobAfter  \\\n",
       "0  28.0               0.0             NaN                   NaN   \n",
       "1  22.0               0.0             NaN                   NaN   \n",
       "2  19.0               0.0             NaN                   NaN   \n",
       "3  26.0               0.0             NaN                   NaN   \n",
       "4  20.0               0.0             NaN                   NaN   \n",
       "\n",
       "   BootcampLoanYesNo  BootcampMonthsAgo BootcampName  BootcampPostSalary  \\\n",
       "0                NaN                NaN          NaN                 NaN   \n",
       "1                NaN                NaN          NaN                 NaN   \n",
       "2                NaN                NaN          NaN                 NaN   \n",
       "3                NaN                NaN          NaN                 NaN   \n",
       "4                NaN                NaN          NaN                 NaN   \n",
       "\n",
       "   BootcampRecommend  ChildrenNumber       ...       ResourceSoloLearn  \\\n",
       "0                NaN             NaN       ...                     NaN   \n",
       "1                NaN             NaN       ...                     NaN   \n",
       "2                NaN             NaN       ...                     NaN   \n",
       "3                NaN             NaN       ...                     NaN   \n",
       "4                NaN             NaN       ...                     NaN   \n",
       "\n",
       "   ResourceStackOverflow  ResourceTreehouse  ResourceUdacity  ResourceUdemy  \\\n",
       "0                    NaN                NaN              NaN            NaN   \n",
       "1                    NaN                NaN              NaN            1.0   \n",
       "2                    NaN                NaN              NaN            NaN   \n",
       "3                    NaN                NaN              NaN            NaN   \n",
       "4                    NaN                NaN              NaN            NaN   \n",
       "\n",
       "   ResourceW3Schools  ResourceYouTube  \\\n",
       "0                NaN              NaN   \n",
       "1                NaN              NaN   \n",
       "2                NaN              NaN   \n",
       "3                NaN              NaN   \n",
       "4                NaN              NaN   \n",
       "\n",
       "                              SchoolDegree              SchoolMajor  \\\n",
       "0           some college credit, no degree                      NaN   \n",
       "1           some college credit, no degree                      NaN   \n",
       "2  high school diploma or equivalent (GED)                      NaN   \n",
       "3                        bachelor's degree  Cinematography And Film   \n",
       "4           some college credit, no degree                      NaN   \n",
       "\n",
       "   StudentDebtOwe  \n",
       "0         20000.0  \n",
       "1             NaN  \n",
       "2             NaN  \n",
       "3          7000.0  \n",
       "4             NaN  \n",
       "\n",
       "[5 rows x 113 columns]"
      ]
     },
     "execution_count": 4,
     "metadata": {},
     "output_type": "execute_result"
    }
   ],
   "source": [
    "df.head()"
   ]
  },
  {
   "cell_type": "code",
   "execution_count": 5,
   "metadata": {},
   "outputs": [
    {
     "data": {
      "text/plain": [
       "113"
      ]
     },
     "execution_count": 5,
     "metadata": {},
     "output_type": "execute_result"
    }
   ],
   "source": [
    "len(df.columns)"
   ]
  },
  {
   "cell_type": "code",
   "execution_count": 9,
   "metadata": {},
   "outputs": [
    {
     "data": {
      "text/plain": [
       "United States of America         6265\n",
       "India                             981\n",
       "United Kingdom                    618\n",
       "Canada                            542\n",
       "Brazil                            269\n",
       "Australia                         263\n",
       "Germany                           255\n",
       "Russia                            251\n",
       "Ukraine                           224\n",
       "Poland                            202\n",
       "Spain                             144\n",
       "Netherlands (Holland, Europe)     137\n",
       "France                            134\n",
       "Romania                           131\n",
       "Italy                             118\n",
       "Mexico                            106\n",
       "South Africa                      102\n",
       "Philippines                       101\n",
       "Nigeria                            98\n",
       "Portugal                           85\n",
       "Indonesia                          77\n",
       "Greece                             72\n",
       "Argentina                          72\n",
       "Serbia                             71\n",
       "Sweden                             71\n",
       "Ireland                            67\n",
       "Turkey                             63\n",
       "China                              62\n",
       "Korea South                        61\n",
       "New Zealand                        60\n",
       "                                 ... \n",
       "Isle of Man                         2\n",
       "Oman                                2\n",
       "Zambia                              2\n",
       "Swaziland                           2\n",
       "New Caledonia                       2\n",
       "Bolivia                             2\n",
       "Liberia                             2\n",
       "Barbados                            2\n",
       "Guam                                2\n",
       "Niger                               2\n",
       "Belize                              2\n",
       "Bahamas                             2\n",
       "Fiji                                2\n",
       "Honduras                            2\n",
       "Reunion                             1\n",
       "Bermuda                             1\n",
       "Haiti                               1\n",
       "Nambia                              1\n",
       "Botswana                            1\n",
       "Tokelau                             1\n",
       "Seychelles                          1\n",
       "Mozambique                          1\n",
       "Virgin Islands (British)            1\n",
       "Cyprus                              1\n",
       "Monaco                              1\n",
       "Andorra                             1\n",
       "Korea North                         1\n",
       "Palestine                           1\n",
       "Martinique                          1\n",
       "Benin                               1\n",
       "Name: CountryLive, Length: 156, dtype: int64"
      ]
     },
     "execution_count": 9,
     "metadata": {},
     "output_type": "execute_result"
    }
   ],
   "source": [
    "df.CountryLive.value_counts()"
   ]
  },
  {
   "cell_type": "code",
   "execution_count": 1,
   "metadata": {
    "scrolled": true
   },
   "outputs": [
    {
     "ename": "NameError",
     "evalue": "name 'df' is not defined",
     "output_type": "error",
     "traceback": [
      "\u001b[0;31m---------------------------------------------------------------------------\u001b[0m",
      "\u001b[0;31mNameError\u001b[0m                                 Traceback (most recent call last)",
      "\u001b[0;32m<ipython-input-1-8cf97450020f>\u001b[0m in \u001b[0;36m<module>\u001b[0;34m()\u001b[0m\n\u001b[0;32m----> 1\u001b[0;31m \u001b[0mdf\u001b[0m\u001b[0;34m.\u001b[0m\u001b[0mCountryLive\u001b[0m\u001b[0;34m.\u001b[0m\u001b[0misna\u001b[0m\u001b[0;34m(\u001b[0m\u001b[0;34m)\u001b[0m\u001b[0;34m;\u001b[0m\u001b[0;34m\u001b[0m\u001b[0m\n\u001b[0m",
      "\u001b[0;31mNameError\u001b[0m: name 'df' is not defined"
     ]
    }
   ],
   "source": [
    "df.CountryLive.isna();"
   ]
  },
  {
   "cell_type": "code",
   "execution_count": 12,
   "metadata": {},
   "outputs": [
    {
     "data": {
      "text/plain": [
       "15620"
      ]
     },
     "execution_count": 12,
     "metadata": {},
     "output_type": "execute_result"
    }
   ],
   "source": [
    "len(df)"
   ]
  },
  {
   "cell_type": "code",
   "execution_count": 14,
   "metadata": {},
   "outputs": [
    {
     "data": {
      "text/plain": [
       "0        True\n",
       "1        True\n",
       "2        True\n",
       "3        True\n",
       "4        True\n",
       "5        True\n",
       "6        True\n",
       "7        True\n",
       "8        True\n",
       "9        True\n",
       "10       True\n",
       "11       True\n",
       "12       True\n",
       "13       True\n",
       "14       True\n",
       "15       True\n",
       "16       True\n",
       "17       True\n",
       "18       True\n",
       "19       True\n",
       "20       True\n",
       "21       True\n",
       "22       True\n",
       "23       True\n",
       "24       True\n",
       "25       True\n",
       "26       True\n",
       "27       True\n",
       "28       True\n",
       "29       True\n",
       "         ... \n",
       "15590    True\n",
       "15591    True\n",
       "15592    True\n",
       "15593    True\n",
       "15594    True\n",
       "15595    True\n",
       "15596    True\n",
       "15597    True\n",
       "15598    True\n",
       "15599    True\n",
       "15600    True\n",
       "15601    True\n",
       "15602    True\n",
       "15603    True\n",
       "15604    True\n",
       "15605    True\n",
       "15606    True\n",
       "15607    True\n",
       "15608    True\n",
       "15609    True\n",
       "15610    True\n",
       "15611    True\n",
       "15612    True\n",
       "15613    True\n",
       "15614    True\n",
       "15615    True\n",
       "15616    True\n",
       "15617    True\n",
       "15618    True\n",
       "15619    True\n",
       "Name: CountryLive, Length: 15620, dtype: bool"
      ]
     },
     "execution_count": 14,
     "metadata": {},
     "output_type": "execute_result"
    }
   ],
   "source": [
    "df.CountryLive.notna()"
   ]
  },
  {
   "cell_type": "code",
   "execution_count": 15,
   "metadata": {},
   "outputs": [],
   "source": [
    "df = df[df.CountryLive.notna()]"
   ]
  },
  {
   "cell_type": "code",
   "execution_count": 16,
   "metadata": {},
   "outputs": [
    {
     "data": {
      "text/plain": [
       "13610"
      ]
     },
     "execution_count": 16,
     "metadata": {},
     "output_type": "execute_result"
    }
   ],
   "source": [
    "len(df)"
   ]
  },
  {
   "cell_type": "code",
   "execution_count": 19,
   "metadata": {},
   "outputs": [],
   "source": [
    "# you know there's a dodgy 39, replace with 40\n",
    "def fix(value):\n",
    "    return 40 if value == 39 else value\n",
    "\n",
    "assert fix(39) == 40\n",
    "assert fix(1) == 1"
   ]
  },
  {
   "cell_type": "code",
   "execution_count": 20,
   "metadata": {},
   "outputs": [
    {
     "data": {
      "text/html": [
       "<div>\n",
       "<style scoped>\n",
       "    .dataframe tbody tr th:only-of-type {\n",
       "        vertical-align: middle;\n",
       "    }\n",
       "\n",
       "    .dataframe tbody tr th {\n",
       "        vertical-align: top;\n",
       "    }\n",
       "\n",
       "    .dataframe thead th {\n",
       "        text-align: right;\n",
       "    }\n",
       "</style>\n",
       "<table border=\"1\" class=\"dataframe\">\n",
       "  <thead>\n",
       "    <tr style=\"text-align: right;\">\n",
       "      <th></th>\n",
       "      <th>mycol</th>\n",
       "    </tr>\n",
       "  </thead>\n",
       "  <tbody>\n",
       "    <tr>\n",
       "      <th>0</th>\n",
       "      <td>1</td>\n",
       "    </tr>\n",
       "    <tr>\n",
       "      <th>1</th>\n",
       "      <td>2</td>\n",
       "    </tr>\n",
       "    <tr>\n",
       "      <th>2</th>\n",
       "      <td>39</td>\n",
       "    </tr>\n",
       "    <tr>\n",
       "      <th>3</th>\n",
       "      <td>40</td>\n",
       "    </tr>\n",
       "  </tbody>\n",
       "</table>\n",
       "</div>"
      ],
      "text/plain": [
       "   mycol\n",
       "0      1\n",
       "1      2\n",
       "2     39\n",
       "3     40"
      ]
     },
     "execution_count": 20,
     "metadata": {},
     "output_type": "execute_result"
    }
   ],
   "source": [
    "df2 = pd.DataFrame({'mycol': [1, 2, 39, 40]})\n",
    "df2"
   ]
  },
  {
   "cell_type": "code",
   "execution_count": 22,
   "metadata": {},
   "outputs": [],
   "source": [
    "df2['mycol'] = df2['mycol'].apply(fix)"
   ]
  },
  {
   "cell_type": "code",
   "execution_count": 23,
   "metadata": {},
   "outputs": [
    {
     "data": {
      "text/html": [
       "<div>\n",
       "<style scoped>\n",
       "    .dataframe tbody tr th:only-of-type {\n",
       "        vertical-align: middle;\n",
       "    }\n",
       "\n",
       "    .dataframe tbody tr th {\n",
       "        vertical-align: top;\n",
       "    }\n",
       "\n",
       "    .dataframe thead th {\n",
       "        text-align: right;\n",
       "    }\n",
       "</style>\n",
       "<table border=\"1\" class=\"dataframe\">\n",
       "  <thead>\n",
       "    <tr style=\"text-align: right;\">\n",
       "      <th></th>\n",
       "      <th>mycol</th>\n",
       "    </tr>\n",
       "  </thead>\n",
       "  <tbody>\n",
       "    <tr>\n",
       "      <th>0</th>\n",
       "      <td>1</td>\n",
       "    </tr>\n",
       "    <tr>\n",
       "      <th>1</th>\n",
       "      <td>2</td>\n",
       "    </tr>\n",
       "    <tr>\n",
       "      <th>2</th>\n",
       "      <td>40</td>\n",
       "    </tr>\n",
       "    <tr>\n",
       "      <th>3</th>\n",
       "      <td>40</td>\n",
       "    </tr>\n",
       "  </tbody>\n",
       "</table>\n",
       "</div>"
      ],
      "text/plain": [
       "   mycol\n",
       "0      1\n",
       "1      2\n",
       "2     40\n",
       "3     40"
      ]
     },
     "execution_count": 23,
     "metadata": {},
     "output_type": "execute_result"
    }
   ],
   "source": [
    "df2"
   ]
  },
  {
   "cell_type": "code",
   "execution_count": 32,
   "metadata": {},
   "outputs": [
    {
     "data": {
      "text/plain": [
       "0    True\n",
       "1    True\n",
       "2    True\n",
       "3    True\n",
       "4    True\n",
       "Name: CountryLive, dtype: bool"
      ]
     },
     "execution_count": 32,
     "metadata": {},
     "output_type": "execute_result"
    }
   ],
   "source": [
    "(df.CountryLive == 'United States of America').head()"
   ]
  },
  {
   "cell_type": "code",
   "execution_count": 30,
   "metadata": {},
   "outputs": [
    {
     "data": {
      "text/plain": [
       "['CodeEventGirlDev', 'IsSoftwareDev', 'PodcastDeveloperTea', 'ResourceDevTips']"
      ]
     },
     "execution_count": 30,
     "metadata": {},
     "output_type": "execute_result"
    }
   ],
   "source": [
    "[col for col in df.columns if 'dev' in col.lower()]"
   ]
  },
  {
   "cell_type": "code",
   "execution_count": 33,
   "metadata": {},
   "outputs": [
    {
     "data": {
      "text/plain": [
       "0    0.0\n",
       "1    0.0\n",
       "2    0.0\n",
       "3    0.0\n",
       "4    0.0\n",
       "Name: IsSoftwareDev, dtype: float64"
      ]
     },
     "execution_count": 33,
     "metadata": {},
     "output_type": "execute_result"
    }
   ],
   "source": [
    "df.IsSoftwareDev.head()"
   ]
  },
  {
   "cell_type": "code",
   "execution_count": 43,
   "metadata": {},
   "outputs": [
    {
     "data": {
      "text/plain": [
       "1473"
      ]
     },
     "execution_count": 43,
     "metadata": {},
     "output_type": "execute_result"
    }
   ],
   "source": [
    "len(df[(df.CountryLive == 'United States of America') & df.IsSoftwareDev])"
   ]
  },
  {
   "cell_type": "code",
   "execution_count": 42,
   "metadata": {},
   "outputs": [
    {
     "data": {
      "text/plain": [
       "Age                      1459\n",
       "AttendedBootcamp         1466\n",
       "BootcampFinish            292\n",
       "BootcampFullJobAfter      279\n",
       "BootcampLoanYesNo         294\n",
       "BootcampMonthsAgo         279\n",
       "BootcampName              294\n",
       "BootcampPostSalary        244\n",
       "BootcampRecommend         295\n",
       "ChildrenNumber            395\n",
       "CityPopulation           1462\n",
       "CodeEventBootcamp           8\n",
       "CodeEventCoffee           235\n",
       "CodeEventConferences      522\n",
       "CodeEventDjangoGirls        1\n",
       "CodeEventGameJam            2\n",
       "CodeEventGirlDev          130\n",
       "CodeEventHackathons       438\n",
       "CodeEventMeetup            67\n",
       "CodeEventNodeSchool        55\n",
       "CodeEventNone             561\n",
       "CodeEventOther            133\n",
       "CodeEventRailsBridge       59\n",
       "CodeEventRailsGirls         0\n",
       "CodeEventStartUpWknd       95\n",
       "CodeEventWomenCode        124\n",
       "CodeEventWorkshop           2\n",
       "CommuteTime              1349\n",
       "CountryCitizen           1465\n",
       "CountryLive              1473\n",
       "                         ... \n",
       "PodcastWebAhead             4\n",
       "ResourceBlogs              10\n",
       "ResourceBooks              21\n",
       "ResourceCodecademy        814\n",
       "ResourceCodeWars          196\n",
       "ResourceCoursera          429\n",
       "ResourceDevTips            65\n",
       "ResourceEdX               264\n",
       "ResourceEggHead            11\n",
       "ResourceFCC               668\n",
       "ResourceGoogle             12\n",
       "ResourceHackerRank          8\n",
       "ResourceKhanAcademy       352\n",
       "ResourceLynda              29\n",
       "ResourceMDN                 3\n",
       "ResourceOdinProj          166\n",
       "ResourceOther             309\n",
       "ResourcePluralSight       545\n",
       "ResourceReddit              1\n",
       "ResourceSkillCrush          1\n",
       "ResourceSoloLearn           1\n",
       "ResourceStackOverflow      51\n",
       "ResourceTreehouse          55\n",
       "ResourceUdacity           318\n",
       "ResourceUdemy             404\n",
       "ResourceW3Schools           7\n",
       "ResourceYouTube             9\n",
       "SchoolDegree             1468\n",
       "SchoolMajor              1142\n",
       "StudentDebtOwe            578\n",
       "Length: 113, dtype: int64"
      ]
     },
     "execution_count": 42,
     "metadata": {},
     "output_type": "execute_result"
    }
   ],
   "source": [
    "df[(df.CountryLive == 'United States of America') & df.IsSoftwareDev].count()"
   ]
  },
  {
   "cell_type": "code",
   "execution_count": null,
   "metadata": {},
   "outputs": [],
   "source": []
  }
 ],
 "metadata": {
  "kernelspec": {
   "display_name": "Python [default]",
   "language": "python",
   "name": "python3"
  },
  "language_info": {
   "codemirror_mode": {
    "name": "ipython",
    "version": 3
   },
   "file_extension": ".py",
   "mimetype": "text/x-python",
   "name": "python",
   "nbconvert_exporter": "python",
   "pygments_lexer": "ipython3",
   "version": "3.6.5"
  }
 },
 "nbformat": 4,
 "nbformat_minor": 2
}
